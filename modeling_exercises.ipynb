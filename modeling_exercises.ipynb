{
 "cells": [
  {
   "cell_type": "code",
   "execution_count": 1,
   "metadata": {},
   "outputs": [],
   "source": [
    "import pandas as pd\n",
    "import numpy as np\n",
    "import matplotlib.pyplot as plt\n",
    "import seaborn as sns\n",
    "\n",
    "from prepare import train_validate_test_split, select_kbest, select_rfe\n",
    "from explore import plot_univar, plot_variable_pairs, plot_categorical_and_continuous_vars, heat_corr\n",
    "\n",
    "from sklearn.preprocessing import MinMaxScaler\n",
    "\n",
    "# modeling methods\n",
    "from sklearn.metrics import mean_squared_error, explained_variance_score\n",
    "from sklearn.linear_model import LinearRegression, LassoLars, TweedieRegressor\n",
    "from sklearn.preprocessing import PolynomialFeatures\n",
    "\n",
    "from pydataset import data"
   ]
  },
  {
   "cell_type": "markdown",
   "metadata": {},
   "source": [
    "# Modeling Exercises\n",
    "Select a dataset with a continuous target variable.\n",
    "\n",
    "Be sure your data is prepared (no missing values, numeric datatypes) and split into samples.\n",
    "\n",
    "Work through all of the steps outlined in the lesson, from setting the baseline to selected a model and evaluating the final model on your test data.\n",
    "\n"
   ]
  },
  {
   "cell_type": "markdown",
   "metadata": {},
   "source": [
    "## Acquistion and Prep"
   ]
  },
  {
   "cell_type": "code",
   "execution_count": 2,
   "metadata": {},
   "outputs": [],
   "source": [
    "df = data('Caschool')"
   ]
  },
  {
   "cell_type": "code",
   "execution_count": 3,
   "metadata": {},
   "outputs": [
    {
     "name": "stdout",
     "output_type": "stream",
     "text": [
      "Caschool\n",
      "\n",
      "PyDataset Documentation (adopted from R Documentation. The displayed examples are in R)\n",
      "\n",
      "## The California Test Score Data Set\n",
      "\n",
      "### Description\n",
      "\n",
      "a cross-section from 1998-1999\n",
      "\n",
      "_number of observations_ : 420\n",
      "\n",
      "_observation_ : schools\n",
      "\n",
      "_country_ : United States\n",
      "\n",
      "### Usage\n",
      "\n",
      "    data(Caschool)\n",
      "\n",
      "### Format\n",
      "\n",
      "A dataframe containing :\n",
      "\n",
      "distcod\n",
      "\n",
      "disctric code\n",
      "\n",
      "county\n",
      "\n",
      "county\n",
      "\n",
      "district\n",
      "\n",
      "district\n",
      "\n",
      "grspan\n",
      "\n",
      "grade span of district\n",
      "\n",
      "enrltot\n",
      "\n",
      "total enrollment\n",
      "\n",
      "teachers\n",
      "\n",
      "number of teachers\n",
      "\n",
      "calwpct\n",
      "\n",
      "percent qualifying for CalWorks\n",
      "\n",
      "mealpct\n",
      "\n",
      "percent qualifying for reduced-price lunch\n",
      "\n",
      "computer\n",
      "\n",
      "number of computers\n",
      "\n",
      "testscr\n",
      "\n",
      "average test score (read.scr+math.scr)/2\n",
      "\n",
      "compstu\n",
      "\n",
      "computer per student\n",
      "\n",
      "expnstu\n",
      "\n",
      "expenditure per student\n",
      "\n",
      "str\n",
      "\n",
      "student teacher ratio\n",
      "\n",
      "avginc\n",
      "\n",
      "district average income\n",
      "\n",
      "elpct\n",
      "\n",
      "percent of English learners\n",
      "\n",
      "readscr\n",
      "\n",
      "average reading score\n",
      "\n",
      "mathscr\n",
      "\n",
      "average math score\n",
      "\n",
      "### Source\n",
      "\n",
      "California Department of Education http://www.cde.ca.gov.\n",
      "\n",
      "### References\n",
      "\n",
      "Stock, James H. and Mark W. Watson (2003) _Introduction to Econometrics_,\n",
      "Addison-Wesley Educational Publishers,\n",
      "http://wps.aw.com/aw_stockwatsn_economtrcs_1, chapter 4–7.\n",
      "\n",
      "### See Also\n",
      "\n",
      "`Index.Source`, `Index.Economics`, `Index.Econometrics`, `Index.Observations`\n",
      "\n",
      "\n"
     ]
    }
   ],
   "source": [
    "# look at the documentation\n",
    "data('Caschool', show_doc=True)"
   ]
  },
  {
   "cell_type": "code",
   "execution_count": 4,
   "metadata": {},
   "outputs": [
    {
     "data": {
      "text/html": [
       "<div>\n",
       "<style scoped>\n",
       "    .dataframe tbody tr th:only-of-type {\n",
       "        vertical-align: middle;\n",
       "    }\n",
       "\n",
       "    .dataframe tbody tr th {\n",
       "        vertical-align: top;\n",
       "    }\n",
       "\n",
       "    .dataframe thead th {\n",
       "        text-align: right;\n",
       "    }\n",
       "</style>\n",
       "<table border=\"1\" class=\"dataframe\">\n",
       "  <thead>\n",
       "    <tr style=\"text-align: right;\">\n",
       "      <th></th>\n",
       "      <th>distcod</th>\n",
       "      <th>county</th>\n",
       "      <th>district</th>\n",
       "      <th>grspan</th>\n",
       "      <th>enrltot</th>\n",
       "      <th>teachers</th>\n",
       "      <th>calwpct</th>\n",
       "      <th>mealpct</th>\n",
       "      <th>computer</th>\n",
       "      <th>testscr</th>\n",
       "      <th>compstu</th>\n",
       "      <th>expnstu</th>\n",
       "      <th>str</th>\n",
       "      <th>avginc</th>\n",
       "      <th>elpct</th>\n",
       "      <th>readscr</th>\n",
       "      <th>mathscr</th>\n",
       "    </tr>\n",
       "  </thead>\n",
       "  <tbody>\n",
       "    <tr>\n",
       "      <th>1</th>\n",
       "      <td>75119</td>\n",
       "      <td>Alameda</td>\n",
       "      <td>Sunol Glen Unified</td>\n",
       "      <td>KK-08</td>\n",
       "      <td>195</td>\n",
       "      <td>10.900000</td>\n",
       "      <td>0.510200</td>\n",
       "      <td>2.040800</td>\n",
       "      <td>67</td>\n",
       "      <td>690.799988</td>\n",
       "      <td>0.343590</td>\n",
       "      <td>6384.911133</td>\n",
       "      <td>17.889910</td>\n",
       "      <td>22.690001</td>\n",
       "      <td>0.000000</td>\n",
       "      <td>691.599976</td>\n",
       "      <td>690.000000</td>\n",
       "    </tr>\n",
       "    <tr>\n",
       "      <th>2</th>\n",
       "      <td>61499</td>\n",
       "      <td>Butte</td>\n",
       "      <td>Manzanita Elementary</td>\n",
       "      <td>KK-08</td>\n",
       "      <td>240</td>\n",
       "      <td>11.150000</td>\n",
       "      <td>15.416700</td>\n",
       "      <td>47.916698</td>\n",
       "      <td>101</td>\n",
       "      <td>661.200012</td>\n",
       "      <td>0.420833</td>\n",
       "      <td>5099.380859</td>\n",
       "      <td>21.524664</td>\n",
       "      <td>9.824000</td>\n",
       "      <td>4.583333</td>\n",
       "      <td>660.500000</td>\n",
       "      <td>661.900024</td>\n",
       "    </tr>\n",
       "    <tr>\n",
       "      <th>3</th>\n",
       "      <td>61549</td>\n",
       "      <td>Butte</td>\n",
       "      <td>Thermalito Union Elementary</td>\n",
       "      <td>KK-08</td>\n",
       "      <td>1550</td>\n",
       "      <td>82.900002</td>\n",
       "      <td>55.032299</td>\n",
       "      <td>76.322601</td>\n",
       "      <td>169</td>\n",
       "      <td>643.599976</td>\n",
       "      <td>0.109032</td>\n",
       "      <td>5501.954590</td>\n",
       "      <td>18.697226</td>\n",
       "      <td>8.978000</td>\n",
       "      <td>30.000002</td>\n",
       "      <td>636.299988</td>\n",
       "      <td>650.900024</td>\n",
       "    </tr>\n",
       "    <tr>\n",
       "      <th>4</th>\n",
       "      <td>61457</td>\n",
       "      <td>Butte</td>\n",
       "      <td>Golden Feather Union Elementary</td>\n",
       "      <td>KK-08</td>\n",
       "      <td>243</td>\n",
       "      <td>14.000000</td>\n",
       "      <td>36.475399</td>\n",
       "      <td>77.049202</td>\n",
       "      <td>85</td>\n",
       "      <td>647.700012</td>\n",
       "      <td>0.349794</td>\n",
       "      <td>7101.831055</td>\n",
       "      <td>17.357143</td>\n",
       "      <td>8.978000</td>\n",
       "      <td>0.000000</td>\n",
       "      <td>651.900024</td>\n",
       "      <td>643.500000</td>\n",
       "    </tr>\n",
       "    <tr>\n",
       "      <th>5</th>\n",
       "      <td>61523</td>\n",
       "      <td>Butte</td>\n",
       "      <td>Palermo Union Elementary</td>\n",
       "      <td>KK-08</td>\n",
       "      <td>1335</td>\n",
       "      <td>71.500000</td>\n",
       "      <td>33.108601</td>\n",
       "      <td>78.427002</td>\n",
       "      <td>171</td>\n",
       "      <td>640.849976</td>\n",
       "      <td>0.128090</td>\n",
       "      <td>5235.987793</td>\n",
       "      <td>18.671329</td>\n",
       "      <td>9.080333</td>\n",
       "      <td>13.857677</td>\n",
       "      <td>641.799988</td>\n",
       "      <td>639.900024</td>\n",
       "    </tr>\n",
       "  </tbody>\n",
       "</table>\n",
       "</div>"
      ],
      "text/plain": [
       "   distcod   county                         district grspan  enrltot  \\\n",
       "1    75119  Alameda               Sunol Glen Unified  KK-08      195   \n",
       "2    61499    Butte             Manzanita Elementary  KK-08      240   \n",
       "3    61549    Butte      Thermalito Union Elementary  KK-08     1550   \n",
       "4    61457    Butte  Golden Feather Union Elementary  KK-08      243   \n",
       "5    61523    Butte         Palermo Union Elementary  KK-08     1335   \n",
       "\n",
       "    teachers    calwpct    mealpct  computer     testscr   compstu  \\\n",
       "1  10.900000   0.510200   2.040800        67  690.799988  0.343590   \n",
       "2  11.150000  15.416700  47.916698       101  661.200012  0.420833   \n",
       "3  82.900002  55.032299  76.322601       169  643.599976  0.109032   \n",
       "4  14.000000  36.475399  77.049202        85  647.700012  0.349794   \n",
       "5  71.500000  33.108601  78.427002       171  640.849976  0.128090   \n",
       "\n",
       "       expnstu        str     avginc      elpct     readscr     mathscr  \n",
       "1  6384.911133  17.889910  22.690001   0.000000  691.599976  690.000000  \n",
       "2  5099.380859  21.524664   9.824000   4.583333  660.500000  661.900024  \n",
       "3  5501.954590  18.697226   8.978000  30.000002  636.299988  650.900024  \n",
       "4  7101.831055  17.357143   8.978000   0.000000  651.900024  643.500000  \n",
       "5  5235.987793  18.671329   9.080333  13.857677  641.799988  639.900024  "
      ]
     },
     "execution_count": 4,
     "metadata": {},
     "output_type": "execute_result"
    }
   ],
   "source": [
    "# let's take a peek at our data\n",
    "df.head()"
   ]
  },
  {
   "cell_type": "code",
   "execution_count": 5,
   "metadata": {},
   "outputs": [
    {
     "name": "stdout",
     "output_type": "stream",
     "text": [
      "<class 'pandas.core.frame.DataFrame'>\n",
      "Int64Index: 420 entries, 1 to 420\n",
      "Data columns (total 17 columns):\n",
      " #   Column    Non-Null Count  Dtype  \n",
      "---  ------    --------------  -----  \n",
      " 0   distcod   420 non-null    int64  \n",
      " 1   county    420 non-null    object \n",
      " 2   district  420 non-null    object \n",
      " 3   grspan    420 non-null    object \n",
      " 4   enrltot   420 non-null    int64  \n",
      " 5   teachers  420 non-null    float64\n",
      " 6   calwpct   420 non-null    float64\n",
      " 7   mealpct   420 non-null    float64\n",
      " 8   computer  420 non-null    int64  \n",
      " 9   testscr   420 non-null    float64\n",
      " 10  compstu   420 non-null    float64\n",
      " 11  expnstu   420 non-null    float64\n",
      " 12  str       420 non-null    float64\n",
      " 13  avginc    420 non-null    float64\n",
      " 14  elpct     420 non-null    float64\n",
      " 15  readscr   420 non-null    float64\n",
      " 16  mathscr   420 non-null    float64\n",
      "dtypes: float64(11), int64(3), object(3)\n",
      "memory usage: 59.1+ KB\n"
     ]
    }
   ],
   "source": [
    "# get some more info\n",
    "df.info()"
   ]
  },
  {
   "cell_type": "markdown",
   "metadata": {},
   "source": [
    "Note that there are no null values which is good."
   ]
  },
  {
   "cell_type": "code",
   "execution_count": 6,
   "metadata": {},
   "outputs": [
    {
     "data": {
      "text/html": [
       "<div>\n",
       "<style scoped>\n",
       "    .dataframe tbody tr th:only-of-type {\n",
       "        vertical-align: middle;\n",
       "    }\n",
       "\n",
       "    .dataframe tbody tr th {\n",
       "        vertical-align: top;\n",
       "    }\n",
       "\n",
       "    .dataframe thead th {\n",
       "        text-align: right;\n",
       "    }\n",
       "</style>\n",
       "<table border=\"1\" class=\"dataframe\">\n",
       "  <thead>\n",
       "    <tr style=\"text-align: right;\">\n",
       "      <th></th>\n",
       "      <th>distcod</th>\n",
       "      <th>enrltot</th>\n",
       "      <th>teachers</th>\n",
       "      <th>calwpct</th>\n",
       "      <th>mealpct</th>\n",
       "      <th>computer</th>\n",
       "      <th>testscr</th>\n",
       "      <th>compstu</th>\n",
       "      <th>expnstu</th>\n",
       "      <th>str</th>\n",
       "      <th>avginc</th>\n",
       "      <th>elpct</th>\n",
       "      <th>readscr</th>\n",
       "      <th>mathscr</th>\n",
       "    </tr>\n",
       "  </thead>\n",
       "  <tbody>\n",
       "    <tr>\n",
       "      <th>count</th>\n",
       "      <td>420.000000</td>\n",
       "      <td>420.000000</td>\n",
       "      <td>420.000000</td>\n",
       "      <td>420.000000</td>\n",
       "      <td>420.000000</td>\n",
       "      <td>420.000000</td>\n",
       "      <td>420.000000</td>\n",
       "      <td>420.000000</td>\n",
       "      <td>420.000000</td>\n",
       "      <td>420.000000</td>\n",
       "      <td>420.000000</td>\n",
       "      <td>420.000000</td>\n",
       "      <td>420.000000</td>\n",
       "      <td>420.000000</td>\n",
       "    </tr>\n",
       "    <tr>\n",
       "      <th>mean</th>\n",
       "      <td>67472.809524</td>\n",
       "      <td>2628.792857</td>\n",
       "      <td>129.067376</td>\n",
       "      <td>13.246042</td>\n",
       "      <td>44.705237</td>\n",
       "      <td>303.383333</td>\n",
       "      <td>654.156548</td>\n",
       "      <td>0.135927</td>\n",
       "      <td>5312.407541</td>\n",
       "      <td>19.640425</td>\n",
       "      <td>15.316588</td>\n",
       "      <td>15.768155</td>\n",
       "      <td>654.970477</td>\n",
       "      <td>653.342619</td>\n",
       "    </tr>\n",
       "    <tr>\n",
       "      <th>std</th>\n",
       "      <td>3466.994655</td>\n",
       "      <td>3913.104985</td>\n",
       "      <td>187.912679</td>\n",
       "      <td>11.454821</td>\n",
       "      <td>27.123381</td>\n",
       "      <td>441.341298</td>\n",
       "      <td>19.053348</td>\n",
       "      <td>0.064956</td>\n",
       "      <td>633.937053</td>\n",
       "      <td>1.891812</td>\n",
       "      <td>7.225890</td>\n",
       "      <td>18.285927</td>\n",
       "      <td>20.107980</td>\n",
       "      <td>18.754202</td>\n",
       "    </tr>\n",
       "    <tr>\n",
       "      <th>min</th>\n",
       "      <td>61382.000000</td>\n",
       "      <td>81.000000</td>\n",
       "      <td>4.850000</td>\n",
       "      <td>0.000000</td>\n",
       "      <td>0.000000</td>\n",
       "      <td>0.000000</td>\n",
       "      <td>605.550049</td>\n",
       "      <td>0.000000</td>\n",
       "      <td>3926.069580</td>\n",
       "      <td>14.000000</td>\n",
       "      <td>5.335000</td>\n",
       "      <td>0.000000</td>\n",
       "      <td>604.500000</td>\n",
       "      <td>605.400024</td>\n",
       "    </tr>\n",
       "    <tr>\n",
       "      <th>25%</th>\n",
       "      <td>64307.750000</td>\n",
       "      <td>379.000000</td>\n",
       "      <td>19.662499</td>\n",
       "      <td>4.395375</td>\n",
       "      <td>23.282200</td>\n",
       "      <td>46.000000</td>\n",
       "      <td>640.049988</td>\n",
       "      <td>0.093767</td>\n",
       "      <td>4906.180054</td>\n",
       "      <td>18.582360</td>\n",
       "      <td>10.639000</td>\n",
       "      <td>1.940807</td>\n",
       "      <td>640.400024</td>\n",
       "      <td>639.375015</td>\n",
       "    </tr>\n",
       "    <tr>\n",
       "      <th>50%</th>\n",
       "      <td>67760.500000</td>\n",
       "      <td>950.500000</td>\n",
       "      <td>48.564999</td>\n",
       "      <td>10.520450</td>\n",
       "      <td>41.750700</td>\n",
       "      <td>117.500000</td>\n",
       "      <td>654.449982</td>\n",
       "      <td>0.125464</td>\n",
       "      <td>5214.516602</td>\n",
       "      <td>19.723208</td>\n",
       "      <td>13.727800</td>\n",
       "      <td>8.777634</td>\n",
       "      <td>655.750000</td>\n",
       "      <td>652.449982</td>\n",
       "    </tr>\n",
       "    <tr>\n",
       "      <th>75%</th>\n",
       "      <td>70419.000000</td>\n",
       "      <td>3008.000000</td>\n",
       "      <td>146.350002</td>\n",
       "      <td>18.981350</td>\n",
       "      <td>66.864725</td>\n",
       "      <td>375.250000</td>\n",
       "      <td>666.662506</td>\n",
       "      <td>0.164466</td>\n",
       "      <td>5601.401367</td>\n",
       "      <td>20.871815</td>\n",
       "      <td>17.629001</td>\n",
       "      <td>22.970003</td>\n",
       "      <td>668.725006</td>\n",
       "      <td>665.849991</td>\n",
       "    </tr>\n",
       "    <tr>\n",
       "      <th>max</th>\n",
       "      <td>75440.000000</td>\n",
       "      <td>27176.000000</td>\n",
       "      <td>1429.000000</td>\n",
       "      <td>78.994202</td>\n",
       "      <td>100.000000</td>\n",
       "      <td>3324.000000</td>\n",
       "      <td>706.750000</td>\n",
       "      <td>0.420833</td>\n",
       "      <td>7711.506836</td>\n",
       "      <td>25.799999</td>\n",
       "      <td>55.327999</td>\n",
       "      <td>85.539719</td>\n",
       "      <td>704.000000</td>\n",
       "      <td>709.500000</td>\n",
       "    </tr>\n",
       "  </tbody>\n",
       "</table>\n",
       "</div>"
      ],
      "text/plain": [
       "            distcod       enrltot     teachers     calwpct     mealpct  \\\n",
       "count    420.000000    420.000000   420.000000  420.000000  420.000000   \n",
       "mean   67472.809524   2628.792857   129.067376   13.246042   44.705237   \n",
       "std     3466.994655   3913.104985   187.912679   11.454821   27.123381   \n",
       "min    61382.000000     81.000000     4.850000    0.000000    0.000000   \n",
       "25%    64307.750000    379.000000    19.662499    4.395375   23.282200   \n",
       "50%    67760.500000    950.500000    48.564999   10.520450   41.750700   \n",
       "75%    70419.000000   3008.000000   146.350002   18.981350   66.864725   \n",
       "max    75440.000000  27176.000000  1429.000000   78.994202  100.000000   \n",
       "\n",
       "          computer     testscr     compstu      expnstu         str  \\\n",
       "count   420.000000  420.000000  420.000000   420.000000  420.000000   \n",
       "mean    303.383333  654.156548    0.135927  5312.407541   19.640425   \n",
       "std     441.341298   19.053348    0.064956   633.937053    1.891812   \n",
       "min       0.000000  605.550049    0.000000  3926.069580   14.000000   \n",
       "25%      46.000000  640.049988    0.093767  4906.180054   18.582360   \n",
       "50%     117.500000  654.449982    0.125464  5214.516602   19.723208   \n",
       "75%     375.250000  666.662506    0.164466  5601.401367   20.871815   \n",
       "max    3324.000000  706.750000    0.420833  7711.506836   25.799999   \n",
       "\n",
       "           avginc       elpct     readscr     mathscr  \n",
       "count  420.000000  420.000000  420.000000  420.000000  \n",
       "mean    15.316588   15.768155  654.970477  653.342619  \n",
       "std      7.225890   18.285927   20.107980   18.754202  \n",
       "min      5.335000    0.000000  604.500000  605.400024  \n",
       "25%     10.639000    1.940807  640.400024  639.375015  \n",
       "50%     13.727800    8.777634  655.750000  652.449982  \n",
       "75%     17.629001   22.970003  668.725006  665.849991  \n",
       "max     55.327999   85.539719  704.000000  709.500000  "
      ]
     },
     "execution_count": 6,
     "metadata": {},
     "output_type": "execute_result"
    }
   ],
   "source": [
    "# look at our numeric variables\n",
    "df.describe()"
   ]
  },
  {
   "cell_type": "markdown",
   "metadata": {},
   "source": [
    "**Takeaways:**\n",
    "- From looking at this, I think we can use `testscr` as our target variable.\n",
    "- According to the documentation, `testscr` is the average of `readscr` and `mathscr` so we should drop those two columns when creating the model\n",
    "- We have a lot of columns we can use as features, which is good\n",
    "- Would be wise to scale the data"
   ]
  },
  {
   "cell_type": "code",
   "execution_count": 7,
   "metadata": {},
   "outputs": [],
   "source": [
    "df = df.drop(columns=['distcod', 'county', 'district', 'grspan', 'readscr', 'mathscr'])"
   ]
  },
  {
   "cell_type": "code",
   "execution_count": 8,
   "metadata": {},
   "outputs": [],
   "source": [
    "# Split the data\n",
    "train, validate, test = train_validate_test_split(df)\n",
    "\n",
    "# Set up X and y\n",
    "X_train = train.drop(columns='testscr')\n",
    "y_train = train.testscr\n",
    "\n",
    "X_validate = train.drop(columns='testscr')\n",
    "y_validate = train.testscr\n",
    "\n",
    "X_test = train.drop(columns='testscr')\n",
    "y_test = train.testscr"
   ]
  },
  {
   "cell_type": "code",
   "execution_count": 9,
   "metadata": {},
   "outputs": [],
   "source": [
    "# Scale the data\n",
    "\n",
    "scaler = MinMaxScaler()\n",
    "\n",
    "# Fit the scaler\n",
    "scaler.fit(X_train)\n",
    "\n",
    "# Use the scaler to transform train, validate, test\n",
    "X_train_scaled = scaler.transform(X_train)\n",
    "X_validate_scaled = scaler.transform(X_validate)\n",
    "X_test_scaled = scaler.transform(X_test)\n",
    "\n",
    "# Turn everything into a DataFrame\n",
    "X_train_scaled = pd.DataFrame(X_train_scaled, columns=X_train.columns)\n",
    "X_validate_scaled = pd.DataFrame(X_validate_scaled, columns=X_train.columns)\n",
    "X_test_scaled = pd.DataFrame(X_test_scaled, columns=X_train.columns)"
   ]
  },
  {
   "cell_type": "markdown",
   "metadata": {},
   "source": [
    "## Exploration"
   ]
  },
  {
   "cell_type": "markdown",
   "metadata": {},
   "source": [
    "### Univariate exploration"
   ]
  },
  {
   "cell_type": "code",
   "execution_count": 10,
   "metadata": {},
   "outputs": [
    {
     "data": {
      "text/plain": [
       "<AxesSubplot:ylabel='Frequency'>"
      ]
     },
     "execution_count": 10,
     "metadata": {},
     "output_type": "execute_result"
    },
    {
     "data": {
      "image/png": "[encoded data removed]",
      "text/plain": [
       "<Figure size 432x288 with 1 Axes>"
      ]
     },
     "metadata": {
      "needs_background": "light"
     },
     "output_type": "display_data"
    }
   ],
   "source": [
    "# distribution of our target variable\n",
    "df.testscr.plot.hist()"
   ]
  },
  {
   "cell_type": "markdown",
   "metadata": {},
   "source": [
    "Wow, almost normally distributed!"
   ]
  },
  {
   "cell_type": "code",
   "execution_count": 11,
   "metadata": {},
   "outputs": [
    {
     "data": {
      "text/plain": [
       "['mealpct', 'avginc', 'elpct']"
      ]
     },
     "execution_count": 11,
     "metadata": {},
     "output_type": "execute_result"
    }
   ],
   "source": [
    "select_kbest(X_train, y_train, 3)"
   ]
  },
  {
   "cell_type": "code",
   "execution_count": 12,
   "metadata": {},
   "outputs": [],
   "source": [
    "features, rankings = select_rfe(X_train, y_train, 3, return_rankings=True)"
   ]
  },
  {
   "cell_type": "code",
   "execution_count": 13,
   "metadata": {},
   "outputs": [
    {
     "data": {
      "text/plain": [
       "['compstu', 'str', 'avginc']"
      ]
     },
     "execution_count": 13,
     "metadata": {},
     "output_type": "execute_result"
    }
   ],
   "source": [
    "features"
   ]
  },
  {
   "cell_type": "code",
   "execution_count": 14,
   "metadata": {},
   "outputs": [
    {
     "data": {
      "text/plain": [
       "enrltot     6\n",
       "teachers    5\n",
       "calwpct     4\n",
       "mealpct     2\n",
       "computer    7\n",
       "compstu     1\n",
       "expnstu     8\n",
       "str         1\n",
       "avginc      1\n",
       "elpct       3\n",
       "dtype: int64"
      ]
     },
     "execution_count": 14,
     "metadata": {},
     "output_type": "execute_result"
    }
   ],
   "source": [
    "rankings"
   ]
  },
  {
   "cell_type": "markdown",
   "metadata": {},
   "source": [
    "**Takeaways:**\n",
    "- Seems like the best features would be `avginc`, `str`, `elpct`, `compstu`, `mealpct`"
   ]
  },
  {
   "cell_type": "markdown",
   "metadata": {},
   "source": [
    "## Modeling"
   ]
  },
  {
   "cell_type": "markdown",
   "metadata": {},
   "source": [
    "**First let's set the baseline**"
   ]
  },
  {
   "cell_type": "code",
   "execution_count": 15,
   "metadata": {},
   "outputs": [],
   "source": [
    "y_train = pd.DataFrame(y_train)\n",
    "y_validate = pd.DataFrame(y_validate)"
   ]
  },
  {
   "cell_type": "code",
   "execution_count": 16,
   "metadata": {},
   "outputs": [
    {
     "name": "stdout",
     "output_type": "stream",
     "text": [
      "RMSE using Mean\n",
      "Train/In-Sample:  19.07 \n",
      "Validate/Out-of-Sample:  19.07\n"
     ]
    }
   ],
   "source": [
    "# We need y_train and y_validate to be dataframes to append the new columns with predicted values. \n",
    "y_train = pd.DataFrame(y_train)\n",
    "y_validate = pd.DataFrame(y_validate)\n",
    "\n",
    "# 1. Predict testscr_pred_mean\n",
    "testscr_pred_mean = y_train.testscr.mean()\n",
    "y_train['testscr_pred_mean'] = testscr_pred_mean\n",
    "y_validate['testscr_pred_mean'] = testscr_pred_mean\n",
    "\n",
    "# 2. compute testscr_pred_median\n",
    "testscr_pred_median = y_train.testscr.median()\n",
    "y_train['testscr_pred_median'] = testscr_pred_median\n",
    "y_validate['testscr_pred_median'] = testscr_pred_median\n",
    "\n",
    "# 3. RMSE of testscr_pred_mean\n",
    "rmse_train = mean_squared_error(y_train.testscr, y_train.testscr_pred_mean) ** 0.5\n",
    "rmse_validate = mean_squared_error(y_validate.testscr, y_validate.testscr_pred_mean) ** 0.5\n",
    "\n",
    "print(\"RMSE using Mean\\nTrain/In-Sample: \", round(rmse_train, 2), \n",
    "      \"\\nValidate/Out-of-Sample: \", round(rmse_validate, 2))\n",
    "\n",
    "# 4. RMSE of testscr_pred_median\n",
    "# rmse_train = mean_squared_error(y_train.testscr, y_train.testscr_pred_median) ** .5\n",
    "# rmse_validate = mean_squared_error(y_validate.testscr, y_validate.testscr_pred_median) ** .5\n",
    "# print(\"RMSE using Median\\nTrain/In-Sample: \", round(rmse_train, 2), \n",
    "#       \"\\nValidate/Out-of-Sample: \", round(rmse_validate, 2))"
   ]
  },
  {
   "cell_type": "markdown",
   "metadata": {},
   "source": [
    "Mean and median are pretty much the same -- let's use mean as the baseline."
   ]
  },
  {
   "cell_type": "code",
   "execution_count": 17,
   "metadata": {},
   "outputs": [],
   "source": [
    "######## \n",
    "# ~~~~~~~~~addendum~~~~~~~\n",
    "#  we will incrementally build \n",
    "# a dataframe for comparison of \n",
    "# our metrics for model selection\n",
    "######"
   ]
  },
  {
   "cell_type": "code",
   "execution_count": 18,
   "metadata": {},
   "outputs": [],
   "source": [
    "metric_df = pd.DataFrame(data=[{\n",
    "    'model': 'mean_baseline',\n",
    "    'rmse_validate': rmse_validate,\n",
    "    'r^2_validate': explained_variance_score(y_validate.testscr, y_validate.testscr_pred_mean)}])"
   ]
  },
  {
   "cell_type": "code",
   "execution_count": 19,
   "metadata": {},
   "outputs": [
    {
     "data": {
      "text/html": [
       "<div>\n",
       "<style scoped>\n",
       "    .dataframe tbody tr th:only-of-type {\n",
       "        vertical-align: middle;\n",
       "    }\n",
       "\n",
       "    .dataframe tbody tr th {\n",
       "        vertical-align: top;\n",
       "    }\n",
       "\n",
       "    .dataframe thead th {\n",
       "        text-align: right;\n",
       "    }\n",
       "</style>\n",
       "<table border=\"1\" class=\"dataframe\">\n",
       "  <thead>\n",
       "    <tr style=\"text-align: right;\">\n",
       "      <th></th>\n",
       "      <th>model</th>\n",
       "      <th>rmse_validate</th>\n",
       "      <th>r^2_validate</th>\n",
       "    </tr>\n",
       "  </thead>\n",
       "  <tbody>\n",
       "    <tr>\n",
       "      <th>0</th>\n",
       "      <td>mean_baseline</td>\n",
       "      <td>19.069753</td>\n",
       "      <td>0.0</td>\n",
       "    </tr>\n",
       "  </tbody>\n",
       "</table>\n",
       "</div>"
      ],
      "text/plain": [
       "           model  rmse_validate  r^2_validate\n",
       "0  mean_baseline      19.069753           0.0"
      ]
     },
     "execution_count": 19,
     "metadata": {},
     "output_type": "execute_result"
    }
   ],
   "source": [
    "metric_df"
   ]
  },
  {
   "cell_type": "markdown",
   "metadata": {},
   "source": [
    "### LinearRegression (OLS)\n",
    "\n",
    "1. Fit the model using X_train_scaled and the labels from y_train. \n",
    "\n",
    "2. Predict final grade for students in training sample using our model (lm). \n",
    "\n",
    "3. Evaluate using RMSE\n",
    "\n",
    "4. Repeat predictions and evaluation for validation. \n",
    "\n",
    "5. Compare RMSE train vs. validation. Overfitting? "
   ]
  },
  {
   "cell_type": "code",
   "execution_count": 21,
   "metadata": {},
   "outputs": [
    {
     "name": "stdout",
     "output_type": "stream",
     "text": [
      "RMSE for OLS using LinearRegression\n",
      "Training/In-Sample:  8.270071667776442 \n",
      "Validation/Out-of-Sample:  8.270071667776442\n"
     ]
    }
   ],
   "source": [
    "# create the model object\n",
    "# \n",
    "# make the thing\n",
    "# \n",
    "lm = LinearRegression(normalize=True)\n",
    "\n",
    "# fit the model to our training data. We must specify the column in y_train, \n",
    "# since we have converted it to a dataframe from a series! \n",
    "# \n",
    "# fit the thing\n",
    "# \n",
    "lm.fit(X_train[['avginc', 'str', 'elpct', 'compstu', 'mealpct']], y_train.testscr)\n",
    "\n",
    "# predict train\n",
    "# \n",
    "# use the thing!\n",
    "# \n",
    "y_train['testscr_pred_lm'] = lm.predict(X_train[['avginc', 'str', 'elpct', 'compstu', 'mealpct']])\n",
    "\n",
    "# evaluate: rmse\n",
    "rmse_train = mean_squared_error(y_train.testscr, y_train.testscr_pred_lm) ** (1/2)\n",
    "# predict validate\n",
    "y_validate['testscr_pred_lm'] = lm.predict(X_validate[['avginc', 'str', 'elpct', 'compstu', 'mealpct']])\n",
    "\n",
    "# evaluate: rmse\n",
    "rmse_validate = mean_squared_error(y_validate.testscr, y_validate.testscr_pred_lm) ** (1/2)\n",
    "\n",
    "print(\"RMSE for OLS using LinearRegression\\nTraining/In-Sample: \", rmse_train, \n",
    "      \"\\nValidation/Out-of-Sample: \", rmse_validate)"
   ]
  },
  {
   "cell_type": "code",
   "execution_count": 22,
   "metadata": {},
   "outputs": [],
   "source": [
    "metric_df = metric_df.append(\n",
    "    {\n",
    "    'model': 'OLS lm 1',\n",
    "    'rmse_validate': rmse_validate,\n",
    "    'r^2_validate': explained_variance_score(y_validate.testscr, y_validate.testscr_pred_lm)}, ignore_index=True)"
   ]
  },
  {
   "cell_type": "code",
   "execution_count": 23,
   "metadata": {},
   "outputs": [
    {
     "data": {
      "text/html": [
       "<div>\n",
       "<style scoped>\n",
       "    .dataframe tbody tr th:only-of-type {\n",
       "        vertical-align: middle;\n",
       "    }\n",
       "\n",
       "    .dataframe tbody tr th {\n",
       "        vertical-align: top;\n",
       "    }\n",
       "\n",
       "    .dataframe thead th {\n",
       "        text-align: right;\n",
       "    }\n",
       "</style>\n",
       "<table border=\"1\" class=\"dataframe\">\n",
       "  <thead>\n",
       "    <tr style=\"text-align: right;\">\n",
       "      <th></th>\n",
       "      <th>model</th>\n",
       "      <th>rmse_validate</th>\n",
       "      <th>r^2_validate</th>\n",
       "    </tr>\n",
       "  </thead>\n",
       "  <tbody>\n",
       "    <tr>\n",
       "      <th>0</th>\n",
       "      <td>mean_baseline</td>\n",
       "      <td>19.069753</td>\n",
       "      <td>0.000000</td>\n",
       "    </tr>\n",
       "    <tr>\n",
       "      <th>1</th>\n",
       "      <td>OLS lm 1</td>\n",
       "      <td>8.270072</td>\n",
       "      <td>0.811926</td>\n",
       "    </tr>\n",
       "  </tbody>\n",
       "</table>\n",
       "</div>"
      ],
      "text/plain": [
       "           model  rmse_validate  r^2_validate\n",
       "0  mean_baseline      19.069753      0.000000\n",
       "1       OLS lm 1       8.270072      0.811926"
      ]
     },
     "execution_count": 23,
     "metadata": {},
     "output_type": "execute_result"
    }
   ],
   "source": [
    "metric_df"
   ]
  },
  {
   "cell_type": "markdown",
   "metadata": {},
   "source": [
    "### LassoLars\n",
    "\n",
    "1. Fit the model using X_train_scaled and the labels from y_train. \n",
    "\n",
    "2. Predict final grade for students in training sample using our model (lars). \n",
    "\n",
    "3. Evaluate using RMSE\n",
    "\n",
    "4. Repeat predictions and evaluation for validation. \n",
    "\n",
    "5. Compare RMSE train vs. validation. Overfitting? "
   ]
  },
  {
   "cell_type": "code",
   "execution_count": 24,
   "metadata": {},
   "outputs": [
    {
     "name": "stdout",
     "output_type": "stream",
     "text": [
      "RMSE for OLS using LinearRegression\n",
      "Training/In-Sample:  8.270071667776442 \n",
      "Validation/Out-of-Sample:  18.209449375234396\n"
     ]
    }
   ],
   "source": [
    "# create the model object\n",
    "lars = LassoLars(alpha=1)\n",
    "\n",
    "# fit the model to our training data. We must specify the column in y_train, \n",
    "# since we have converted it to a dataframe from a series! \n",
    "lars.fit(X_train[['avginc', 'str', 'elpct', 'compstu', 'mealpct']], y_train.testscr)\n",
    "\n",
    "# predict train\n",
    "y_train['testscr_pred_lars'] = lars.predict(X_train[['avginc', 'str', 'elpct', 'compstu', 'mealpct']])\n",
    "\n",
    "# evaluate: rmse\n",
    "rmse_train = mean_squared_error(y_train.testscr, y_train.testscr_pred_lm) ** (1/2)\n",
    "\n",
    "# predict validate\n",
    "y_validate['testscr_pred_lars'] = lars.predict(X_validate[['avginc', 'str', 'elpct', 'compstu', 'mealpct']])\n",
    "\n",
    "# evaluate: rmse\n",
    "rmse_validate = mean_squared_error(y_validate.testscr, y_validate.testscr_pred_lars) ** (1/2)\n",
    "\n",
    "print(\"RMSE for OLS using LinearRegression\\nTraining/In-Sample: \", rmse_train, \n",
    "      \"\\nValidation/Out-of-Sample: \", rmse_validate)"
   ]
  },
  {
   "cell_type": "code",
   "execution_count": 25,
   "metadata": {},
   "outputs": [],
   "source": [
    "metric_df = metric_df.append(\n",
    "    {\n",
    "    'model': 'LassoLars alpha 1',\n",
    "    'rmse_validate': rmse_validate,\n",
    "    'r^2_validate': explained_variance_score(y_validate.testscr, y_validate.testscr_pred_lars)}, ignore_index=True)"
   ]
  },
  {
   "cell_type": "code",
   "execution_count": 26,
   "metadata": {},
   "outputs": [
    {
     "data": {
      "text/html": [
       "<div>\n",
       "<style scoped>\n",
       "    .dataframe tbody tr th:only-of-type {\n",
       "        vertical-align: middle;\n",
       "    }\n",
       "\n",
       "    .dataframe tbody tr th {\n",
       "        vertical-align: top;\n",
       "    }\n",
       "\n",
       "    .dataframe thead th {\n",
       "        text-align: right;\n",
       "    }\n",
       "</style>\n",
       "<table border=\"1\" class=\"dataframe\">\n",
       "  <thead>\n",
       "    <tr style=\"text-align: right;\">\n",
       "      <th></th>\n",
       "      <th>model</th>\n",
       "      <th>rmse_validate</th>\n",
       "      <th>r^2_validate</th>\n",
       "    </tr>\n",
       "  </thead>\n",
       "  <tbody>\n",
       "    <tr>\n",
       "      <th>0</th>\n",
       "      <td>mean_baseline</td>\n",
       "      <td>19.069753</td>\n",
       "      <td>0.000000</td>\n",
       "    </tr>\n",
       "    <tr>\n",
       "      <th>1</th>\n",
       "      <td>OLS lm 1</td>\n",
       "      <td>8.270072</td>\n",
       "      <td>0.811926</td>\n",
       "    </tr>\n",
       "    <tr>\n",
       "      <th>2</th>\n",
       "      <td>LassoLars alpha 1</td>\n",
       "      <td>18.209449</td>\n",
       "      <td>0.088192</td>\n",
       "    </tr>\n",
       "  </tbody>\n",
       "</table>\n",
       "</div>"
      ],
      "text/plain": [
       "               model  rmse_validate  r^2_validate\n",
       "0      mean_baseline      19.069753      0.000000\n",
       "1           OLS lm 1       8.270072      0.811926\n",
       "2  LassoLars alpha 1      18.209449      0.088192"
      ]
     },
     "execution_count": 26,
     "metadata": {},
     "output_type": "execute_result"
    }
   ],
   "source": [
    "metric_df"
   ]
  },
  {
   "cell_type": "markdown",
   "metadata": {},
   "source": [
    "### TweedieRegressor (GLM)\n",
    "\n",
    "1. Fit the model using X_train_scaled and the labels from y_train. \n",
    "\n",
    "2. Predict final grade for students in training sample using our model (glm). \n",
    "\n",
    "3. Evaluate using RMSE\n",
    "\n",
    "4. Repeat predictions and evaluation for validation. \n",
    "\n",
    "5. Compare RMSE train vs. validation. Overfitting? "
   ]
  },
  {
   "cell_type": "code",
   "execution_count": 27,
   "metadata": {},
   "outputs": [
    {
     "name": "stdout",
     "output_type": "stream",
     "text": [
      "RMSE for OLS using LinearRegression\n",
      "Training/In-Sample:  8.280850137124208 \n",
      "Validation/Out-of-Sample:  8.280850137124208\n"
     ]
    }
   ],
   "source": [
    "# create the model object\n",
    "glm = TweedieRegressor(power=1, alpha=0)\n",
    "\n",
    "# fit the model to our training data. We must specify the column in y_train, \n",
    "# since we have converted it to a dataframe from a series! \n",
    "glm.fit(X_train[['avginc', 'str', 'elpct', 'compstu', 'mealpct']], y_train.testscr)\n",
    "\n",
    "# predict train\n",
    "y_train['testscr_pred_glm'] = glm.predict(X_train[['avginc', 'str', 'elpct', 'compstu', 'mealpct']])\n",
    "\n",
    "# evaluate: rmse\n",
    "rmse_train = mean_squared_error(y_train.testscr, y_train.testscr_pred_glm) ** (1/2)\n",
    "\n",
    "# predict validate\n",
    "y_validate['testscr_pred_glm'] = glm.predict(X_validate[['avginc', 'str', 'elpct', 'compstu', 'mealpct']])\n",
    "\n",
    "# evaluate: rmse\n",
    "rmse_validate = mean_squared_error(y_validate.testscr, y_validate.testscr_pred_glm) ** (1/2)\n",
    "\n",
    "print(\"RMSE for OLS using LinearRegression\\nTraining/In-Sample: \", rmse_train, \n",
    "      \"\\nValidation/Out-of-Sample: \", rmse_validate)"
   ]
  },
  {
   "cell_type": "code",
   "execution_count": 28,
   "metadata": {},
   "outputs": [],
   "source": [
    "metric_df = metric_df.append(\n",
    "    {\n",
    "    'model': 'GLM Model Power 1',\n",
    "    'rmse_validate': rmse_validate,\n",
    "    'r^2_validate': explained_variance_score(y_validate.testscr, y_validate.testscr_pred_glm)}, ignore_index=True)"
   ]
  },
  {
   "cell_type": "code",
   "execution_count": 29,
   "metadata": {},
   "outputs": [
    {
     "data": {
      "text/html": [
       "<div>\n",
       "<style scoped>\n",
       "    .dataframe tbody tr th:only-of-type {\n",
       "        vertical-align: middle;\n",
       "    }\n",
       "\n",
       "    .dataframe tbody tr th {\n",
       "        vertical-align: top;\n",
       "    }\n",
       "\n",
       "    .dataframe thead th {\n",
       "        text-align: right;\n",
       "    }\n",
       "</style>\n",
       "<table border=\"1\" class=\"dataframe\">\n",
       "  <thead>\n",
       "    <tr style=\"text-align: right;\">\n",
       "      <th></th>\n",
       "      <th>model</th>\n",
       "      <th>rmse_validate</th>\n",
       "      <th>r^2_validate</th>\n",
       "    </tr>\n",
       "  </thead>\n",
       "  <tbody>\n",
       "    <tr>\n",
       "      <th>0</th>\n",
       "      <td>mean_baseline</td>\n",
       "      <td>19.069753</td>\n",
       "      <td>0.000000</td>\n",
       "    </tr>\n",
       "    <tr>\n",
       "      <th>1</th>\n",
       "      <td>OLS lm 1</td>\n",
       "      <td>8.270072</td>\n",
       "      <td>0.811926</td>\n",
       "    </tr>\n",
       "    <tr>\n",
       "      <th>2</th>\n",
       "      <td>LassoLars alpha 1</td>\n",
       "      <td>18.209449</td>\n",
       "      <td>0.088192</td>\n",
       "    </tr>\n",
       "    <tr>\n",
       "      <th>3</th>\n",
       "      <td>GLM Model Power 1</td>\n",
       "      <td>8.280850</td>\n",
       "      <td>0.811436</td>\n",
       "    </tr>\n",
       "  </tbody>\n",
       "</table>\n",
       "</div>"
      ],
      "text/plain": [
       "               model  rmse_validate  r^2_validate\n",
       "0      mean_baseline      19.069753      0.000000\n",
       "1           OLS lm 1       8.270072      0.811926\n",
       "2  LassoLars alpha 1      18.209449      0.088192\n",
       "3  GLM Model Power 1       8.280850      0.811436"
      ]
     },
     "execution_count": 29,
     "metadata": {},
     "output_type": "execute_result"
    }
   ],
   "source": [
    "metric_df"
   ]
  },
  {
   "cell_type": "markdown",
   "metadata": {},
   "source": [
    "### Polynomial Regression\n",
    "\n",
    "Using sklearn.preprocessing.PolynommialFeatures() + sklearn.linear_model.LinearRegression()"
   ]
  },
  {
   "cell_type": "markdown",
   "metadata": {},
   "source": [
    "1. Create the new features, based on value indicated for degree for train, validate & test. \n",
    "\n",
    "2. Fit the Linear Regression model\n",
    "\n",
    "3. Predict using the transformed (squared or cubed, e.g.) features \n",
    "\n",
    "4. Evaluate using RMSE\n",
    "\n",
    "5. Repeat predictions and evaluation for validation.\n",
    "\n",
    "6. Compare RMSE train vs. validation. Overfitting?"
   ]
  },
  {
   "cell_type": "markdown",
   "metadata": {},
   "source": [
    "## **PolynomialFeatures**"
   ]
  },
  {
   "cell_type": "code",
   "execution_count": 49,
   "metadata": {},
   "outputs": [],
   "source": [
    "# since I'm going to transform my X, I'm going to make a subset that holds just those columns\n",
    "X_train_subset = X_train[['avginc', 'str', 'elpct', 'compstu', 'mealpct']]\n",
    "X_validate_subset = X_validate[['avginc', 'str', 'elpct', 'compstu', 'mealpct']]\n",
    "X_test_subset = X_test[['avginc', 'str', 'elpct', 'compstu', 'mealpct']]"
   ]
  },
  {
   "cell_type": "code",
   "execution_count": 50,
   "metadata": {},
   "outputs": [],
   "source": [
    "# make the polynomial features to get a new set of features\n",
    "pf = PolynomialFeatures(degree=2)\n",
    "\n",
    "# fit and transform X_train_scaled\n",
    "X_train_degree2 = pf.fit_transform(X_train_subset)\n",
    "\n",
    "# transform X_validate_scaled & X_test_scaled\n",
    "X_validate_degree2 = pf.transform(X_validate_subset)\n",
    "X_test_degree2 = pf.transform(X_test_subset)"
   ]
  },
  {
   "cell_type": "markdown",
   "metadata": {},
   "source": [
    "## **LinearRegression**"
   ]
  },
  {
   "cell_type": "code",
   "execution_count": 39,
   "metadata": {},
   "outputs": [
    {
     "name": "stdout",
     "output_type": "stream",
     "text": [
      "RMSE for OLS using LinearRegression\n",
      "Training/In-Sample:  7.9633107549730235 \n",
      "Validation/Out-of-Sample:  7.9633107549730235\n"
     ]
    }
   ],
   "source": [
    "# create the model object\n",
    "lm2 = LinearRegression(normalize=True)\n",
    "\n",
    "# fit the model to our training data. We must specify the column in y_train, \n",
    "# since we have converted it to a dataframe from a series! \n",
    "lm2.fit(X_train_degree2, y_train.testscr)\n",
    "\n",
    "# predict train\n",
    "y_train['testscr_pred_lm2'] = lm2.predict(X_train_degree2)\n",
    "\n",
    "# evaluate: rmse\n",
    "rmse_train = mean_squared_error(y_train.testscr, y_train.testscr_pred_lm2) ** (1/2)\n",
    "\n",
    "# predict validate\n",
    "y_validate['testscr_pred_lm2'] = lm2.predict(X_validate_degree2)\n",
    "\n",
    "# evaluate: rmse\n",
    "rmse_validate = mean_squared_error(y_validate.testscr, y_validate.testscr_pred_lm2) ** (1/2)\n",
    "\n",
    "print(\"RMSE for OLS using LinearRegression\\nTraining/In-Sample: \", rmse_train, \n",
    "      \"\\nValidation/Out-of-Sample: \", rmse_validate)"
   ]
  },
  {
   "cell_type": "code",
   "execution_count": 40,
   "metadata": {},
   "outputs": [],
   "source": [
    "metric_df = metric_df.append(\n",
    "    {\n",
    "    'model': 'Quadratic Model',\n",
    "    'rmse_validate': rmse_validate,\n",
    "    'r^2_validate': explained_variance_score(y_validate.testscr, y_validate.testscr_pred_lm2)}, ignore_index=True)"
   ]
  },
  {
   "cell_type": "code",
   "execution_count": 41,
   "metadata": {},
   "outputs": [
    {
     "data": {
      "text/html": [
       "<div>\n",
       "<style scoped>\n",
       "    .dataframe tbody tr th:only-of-type {\n",
       "        vertical-align: middle;\n",
       "    }\n",
       "\n",
       "    .dataframe tbody tr th {\n",
       "        vertical-align: top;\n",
       "    }\n",
       "\n",
       "    .dataframe thead th {\n",
       "        text-align: right;\n",
       "    }\n",
       "</style>\n",
       "<table border=\"1\" class=\"dataframe\">\n",
       "  <thead>\n",
       "    <tr style=\"text-align: right;\">\n",
       "      <th></th>\n",
       "      <th>model</th>\n",
       "      <th>rmse_validate</th>\n",
       "      <th>r^2_validate</th>\n",
       "    </tr>\n",
       "  </thead>\n",
       "  <tbody>\n",
       "    <tr>\n",
       "      <th>0</th>\n",
       "      <td>mean_baseline</td>\n",
       "      <td>19.069753</td>\n",
       "      <td>0.000000</td>\n",
       "    </tr>\n",
       "    <tr>\n",
       "      <th>1</th>\n",
       "      <td>OLS lm 1</td>\n",
       "      <td>8.270072</td>\n",
       "      <td>0.811926</td>\n",
       "    </tr>\n",
       "    <tr>\n",
       "      <th>2</th>\n",
       "      <td>LassoLars alpha 1</td>\n",
       "      <td>18.209449</td>\n",
       "      <td>0.088192</td>\n",
       "    </tr>\n",
       "    <tr>\n",
       "      <th>3</th>\n",
       "      <td>GLM Model Power 1</td>\n",
       "      <td>8.280850</td>\n",
       "      <td>0.811436</td>\n",
       "    </tr>\n",
       "    <tr>\n",
       "      <th>4</th>\n",
       "      <td>Quadratic Model</td>\n",
       "      <td>7.963311</td>\n",
       "      <td>0.825620</td>\n",
       "    </tr>\n",
       "  </tbody>\n",
       "</table>\n",
       "</div>"
      ],
      "text/plain": [
       "               model  rmse_validate  r^2_validate\n",
       "0      mean_baseline      19.069753      0.000000\n",
       "1           OLS lm 1       8.270072      0.811926\n",
       "2  LassoLars alpha 1      18.209449      0.088192\n",
       "3  GLM Model Power 1       8.280850      0.811436\n",
       "4    Quadratic Model       7.963311      0.825620"
      ]
     },
     "execution_count": 41,
     "metadata": {},
     "output_type": "execute_result"
    }
   ],
   "source": [
    "metric_df"
   ]
  },
  {
   "cell_type": "code",
   "execution_count": 42,
   "metadata": {},
   "outputs": [
    {
     "data": {
      "image/png": "[encoded data removed]",
      "text/plain": [
       "<Figure size 1152x576 with 1 Axes>"
      ]
     },
     "metadata": {
      "needs_background": "light"
     },
     "output_type": "display_data"
    }
   ],
   "source": [
    "# plot to visualize actual vs predicted. \n",
    "plt.figure(figsize=(16,8))\n",
    "plt.hist(y_validate.testscr, color='blue', alpha=.5, label=\"Actual Test Scores\")\n",
    "plt.hist(y_validate.testscr_pred_lm2, color='red', alpha=.5, label=\"Model: Quadratic\")\n",
    "# plt.hist(y_validate.G3_pred_glm, color='yellow', alpha=.5, label=\"Model: TweedieRegressor\")\n",
    "# plt.hist(y_validate.G3_pred_lm2, color='green', alpha=.5, label=\"Model 2nd degree Polynomial\")\n",
    "plt.xlabel(\"Final Score (testscr)\")\n",
    "plt.ylabel(\"Number of Students\")\n",
    "plt.title(\"Comparing the Distribution of Actual Scores to Distributions of Predicted Grades for the Top Models\")\n",
    "plt.legend()\n",
    "plt.show()"
   ]
  },
  {
   "cell_type": "markdown",
   "metadata": {},
   "source": [
    "# Quadratic model wins!"
   ]
  },
  {
   "cell_type": "markdown",
   "metadata": {},
   "source": [
    "**Model Selection & Out-of-Sample Evaluation**\n",
    "\n",
    "Model selected: lm2 (using LinearRegression)"
   ]
  },
  {
   "cell_type": "code",
   "execution_count": 43,
   "metadata": {},
   "outputs": [
    {
     "data": {
      "text/plain": [
       "pandas.core.series.Series"
      ]
     },
     "execution_count": 43,
     "metadata": {},
     "output_type": "execute_result"
    }
   ],
   "source": [
    "type(y_test)"
   ]
  },
  {
   "cell_type": "code",
   "execution_count": 44,
   "metadata": {},
   "outputs": [],
   "source": [
    "y_test = pd.DataFrame(y_test)"
   ]
  },
  {
   "cell_type": "code",
   "execution_count": 45,
   "metadata": {},
   "outputs": [
    {
     "data": {
      "text/html": [
       "<div>\n",
       "<style scoped>\n",
       "    .dataframe tbody tr th:only-of-type {\n",
       "        vertical-align: middle;\n",
       "    }\n",
       "\n",
       "    .dataframe tbody tr th {\n",
       "        vertical-align: top;\n",
       "    }\n",
       "\n",
       "    .dataframe thead th {\n",
       "        text-align: right;\n",
       "    }\n",
       "</style>\n",
       "<table border=\"1\" class=\"dataframe\">\n",
       "  <thead>\n",
       "    <tr style=\"text-align: right;\">\n",
       "      <th></th>\n",
       "      <th>testscr</th>\n",
       "    </tr>\n",
       "  </thead>\n",
       "  <tbody>\n",
       "    <tr>\n",
       "      <th>382</th>\n",
       "      <td>680.050049</td>\n",
       "    </tr>\n",
       "    <tr>\n",
       "      <th>159</th>\n",
       "      <td>647.049988</td>\n",
       "    </tr>\n",
       "    <tr>\n",
       "      <th>214</th>\n",
       "      <td>654.849976</td>\n",
       "    </tr>\n",
       "    <tr>\n",
       "      <th>259</th>\n",
       "      <td>660.299988</td>\n",
       "    </tr>\n",
       "    <tr>\n",
       "      <th>296</th>\n",
       "      <td>664.750000</td>\n",
       "    </tr>\n",
       "  </tbody>\n",
       "</table>\n",
       "</div>"
      ],
      "text/plain": [
       "        testscr\n",
       "382  680.050049\n",
       "159  647.049988\n",
       "214  654.849976\n",
       "259  660.299988\n",
       "296  664.750000"
      ]
     },
     "execution_count": 45,
     "metadata": {},
     "output_type": "execute_result"
    }
   ],
   "source": [
    "y_test.head()"
   ]
  },
  {
   "cell_type": "code",
   "execution_count": 46,
   "metadata": {},
   "outputs": [
    {
     "data": {
      "text/html": [
       "<div>\n",
       "<style scoped>\n",
       "    .dataframe tbody tr th:only-of-type {\n",
       "        vertical-align: middle;\n",
       "    }\n",
       "\n",
       "    .dataframe tbody tr th {\n",
       "        vertical-align: top;\n",
       "    }\n",
       "\n",
       "    .dataframe thead th {\n",
       "        text-align: right;\n",
       "    }\n",
       "</style>\n",
       "<table border=\"1\" class=\"dataframe\">\n",
       "  <thead>\n",
       "    <tr style=\"text-align: right;\">\n",
       "      <th></th>\n",
       "      <th>enrltot</th>\n",
       "      <th>teachers</th>\n",
       "      <th>calwpct</th>\n",
       "      <th>mealpct</th>\n",
       "      <th>computer</th>\n",
       "      <th>compstu</th>\n",
       "      <th>expnstu</th>\n",
       "      <th>str</th>\n",
       "      <th>avginc</th>\n",
       "      <th>elpct</th>\n",
       "    </tr>\n",
       "  </thead>\n",
       "  <tbody>\n",
       "    <tr>\n",
       "      <th>382</th>\n",
       "      <td>945</td>\n",
       "      <td>46.000000</td>\n",
       "      <td>4.239900</td>\n",
       "      <td>10.651500</td>\n",
       "      <td>216</td>\n",
       "      <td>0.228571</td>\n",
       "      <td>5088.708008</td>\n",
       "      <td>20.543478</td>\n",
       "      <td>19.34650</td>\n",
       "      <td>2.539683</td>\n",
       "    </tr>\n",
       "    <tr>\n",
       "      <th>159</th>\n",
       "      <td>7210</td>\n",
       "      <td>360.350006</td>\n",
       "      <td>26.626801</td>\n",
       "      <td>68.857903</td>\n",
       "      <td>800</td>\n",
       "      <td>0.110957</td>\n",
       "      <td>5158.791992</td>\n",
       "      <td>20.008326</td>\n",
       "      <td>10.09800</td>\n",
       "      <td>15.187240</td>\n",
       "    </tr>\n",
       "    <tr>\n",
       "      <th>214</th>\n",
       "      <td>4928</td>\n",
       "      <td>229.199997</td>\n",
       "      <td>8.542000</td>\n",
       "      <td>25.888500</td>\n",
       "      <td>618</td>\n",
       "      <td>0.125406</td>\n",
       "      <td>5139.937500</td>\n",
       "      <td>21.500874</td>\n",
       "      <td>14.62300</td>\n",
       "      <td>5.925324</td>\n",
       "    </tr>\n",
       "    <tr>\n",
       "      <th>259</th>\n",
       "      <td>248</td>\n",
       "      <td>11.120000</td>\n",
       "      <td>7.462700</td>\n",
       "      <td>21.268700</td>\n",
       "      <td>51</td>\n",
       "      <td>0.205645</td>\n",
       "      <td>4302.834961</td>\n",
       "      <td>22.302158</td>\n",
       "      <td>15.36500</td>\n",
       "      <td>0.000000</td>\n",
       "    </tr>\n",
       "    <tr>\n",
       "      <th>296</th>\n",
       "      <td>9850</td>\n",
       "      <td>489.299988</td>\n",
       "      <td>3.335000</td>\n",
       "      <td>30.643700</td>\n",
       "      <td>1113</td>\n",
       "      <td>0.112995</td>\n",
       "      <td>5081.455566</td>\n",
       "      <td>20.130800</td>\n",
       "      <td>20.87575</td>\n",
       "      <td>18.558376</td>\n",
       "    </tr>\n",
       "  </tbody>\n",
       "</table>\n",
       "</div>"
      ],
      "text/plain": [
       "     enrltot    teachers    calwpct    mealpct  computer   compstu  \\\n",
       "382      945   46.000000   4.239900  10.651500       216  0.228571   \n",
       "159     7210  360.350006  26.626801  68.857903       800  0.110957   \n",
       "214     4928  229.199997   8.542000  25.888500       618  0.125406   \n",
       "259      248   11.120000   7.462700  21.268700        51  0.205645   \n",
       "296     9850  489.299988   3.335000  30.643700      1113  0.112995   \n",
       "\n",
       "         expnstu        str    avginc      elpct  \n",
       "382  5088.708008  20.543478  19.34650   2.539683  \n",
       "159  5158.791992  20.008326  10.09800  15.187240  \n",
       "214  5139.937500  21.500874  14.62300   5.925324  \n",
       "259  4302.834961  22.302158  15.36500   0.000000  \n",
       "296  5081.455566  20.130800  20.87575  18.558376  "
      ]
     },
     "execution_count": 46,
     "metadata": {},
     "output_type": "execute_result"
    }
   ],
   "source": [
    "X_test.head()"
   ]
  },
  {
   "cell_type": "code",
   "execution_count": 47,
   "metadata": {},
   "outputs": [
    {
     "data": {
      "text/plain": [
       "LinearRegression(normalize=True)"
      ]
     },
     "execution_count": 47,
     "metadata": {},
     "output_type": "execute_result"
    }
   ],
   "source": [
    "lm2"
   ]
  },
  {
   "cell_type": "code",
   "execution_count": 51,
   "metadata": {},
   "outputs": [],
   "source": [
    "# predict on test\n",
    "y_test['testscr_pred_lm2'] = lm2.predict(X_test_degree2)"
   ]
  },
  {
   "cell_type": "code",
   "execution_count": 52,
   "metadata": {},
   "outputs": [
    {
     "name": "stdout",
     "output_type": "stream",
     "text": [
      "RMSE for OLS Model using LinearRegression\n",
      "Out-of-Sample Performance:  7.9633107549730235\n"
     ]
    }
   ],
   "source": [
    "# evaluate: rmse\n",
    "rmse_test = mean_squared_error(y_test.testscr, y_test.testscr_pred_lm2) ** 0.5\n",
    "print(\"RMSE for OLS Model using LinearRegression\\nOut-of-Sample Performance: \", rmse_test)"
   ]
  },
  {
   "cell_type": "code",
   "execution_count": 53,
   "metadata": {},
   "outputs": [
    {
     "data": {
      "text/html": [
       "<div>\n",
       "<style scoped>\n",
       "    .dataframe tbody tr th:only-of-type {\n",
       "        vertical-align: middle;\n",
       "    }\n",
       "\n",
       "    .dataframe tbody tr th {\n",
       "        vertical-align: top;\n",
       "    }\n",
       "\n",
       "    .dataframe thead th {\n",
       "        text-align: right;\n",
       "    }\n",
       "</style>\n",
       "<table border=\"1\" class=\"dataframe\">\n",
       "  <thead>\n",
       "    <tr style=\"text-align: right;\">\n",
       "      <th></th>\n",
       "      <th>model</th>\n",
       "      <th>rmse_validate</th>\n",
       "      <th>r^2_validate</th>\n",
       "    </tr>\n",
       "  </thead>\n",
       "  <tbody>\n",
       "    <tr>\n",
       "      <th>0</th>\n",
       "      <td>mean_baseline</td>\n",
       "      <td>19.069753</td>\n",
       "      <td>0.000000</td>\n",
       "    </tr>\n",
       "    <tr>\n",
       "      <th>1</th>\n",
       "      <td>OLS lm 1</td>\n",
       "      <td>8.270072</td>\n",
       "      <td>0.811926</td>\n",
       "    </tr>\n",
       "    <tr>\n",
       "      <th>2</th>\n",
       "      <td>LassoLars alpha 1</td>\n",
       "      <td>18.209449</td>\n",
       "      <td>0.088192</td>\n",
       "    </tr>\n",
       "    <tr>\n",
       "      <th>3</th>\n",
       "      <td>GLM Model Power 1</td>\n",
       "      <td>8.280850</td>\n",
       "      <td>0.811436</td>\n",
       "    </tr>\n",
       "    <tr>\n",
       "      <th>4</th>\n",
       "      <td>Quadratic Model</td>\n",
       "      <td>7.963311</td>\n",
       "      <td>0.825620</td>\n",
       "    </tr>\n",
       "  </tbody>\n",
       "</table>\n",
       "</div>"
      ],
      "text/plain": [
       "               model  rmse_validate  r^2_validate\n",
       "0      mean_baseline      19.069753      0.000000\n",
       "1           OLS lm 1       8.270072      0.811926\n",
       "2  LassoLars alpha 1      18.209449      0.088192\n",
       "3  GLM Model Power 1       8.280850      0.811436\n",
       "4    Quadratic Model       7.963311      0.825620"
      ]
     },
     "execution_count": 53,
     "metadata": {},
     "output_type": "execute_result"
    }
   ],
   "source": [
    "metric_df"
   ]
  },
  {
   "cell_type": "code",
   "execution_count": null,
   "metadata": {},
   "outputs": [],
   "source": []
  }
 ],
 "metadata": {
  "kernelspec": {
   "display_name": "Python 3",
   "language": "python",
   "name": "python3"
  },
  "language_info": {
   "codemirror_mode": {
    "name": "ipython",
    "version": 3
   },
   "file_extension": ".py",
   "mimetype": "text/x-python",
   "name": "python",
   "nbconvert_exporter": "python",
   "pygments_lexer": "ipython3",
   "version": "3.8.5"
  }
 },
 "nbformat": 4,
 "nbformat_minor": 4
}
